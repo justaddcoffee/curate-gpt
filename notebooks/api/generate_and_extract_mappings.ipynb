{
 "cells": [
  {
   "cell_type": "markdown",
   "source": [
    "## Generate UNOS Mappings and then extract the content from the response_json"
   ],
   "metadata": {
    "collapsed": false
   },
   "id": "f884043f45b94f9e"
  },
  {
   "cell_type": "code",
   "execution_count": null,
   "outputs": [],
   "source": [
    "# !curategpt make-unos-mapping-logic --prefix HP: --path ../stagedb -c ont_hp -d ../data/THORACIC_DATA_parsed_data_dict.json -o /data/unos_mapping_output.yaml"
   ],
   "metadata": {
    "collapsed": false
   },
   "id": "8523f32a4a77aaab"
  },
  {
   "cell_type": "code",
   "execution_count": 12,
   "outputs": [],
   "source": [
    "import yaml\n",
    "\n",
    "def parse_and_categorize_yaml(file_path):\n",
    "    with open(file_path, 'r') as file:\n",
    "        lines = file.readlines()\n",
    "\n",
    "    parsed_data = []\n",
    "    failed_data = []\n",
    "    buffer = []\n",
    "    recording = False\n",
    "\n",
    "    for line in lines:\n",
    "        line = line.strip()\n",
    "        if \"content: '```yaml\" in line:\n",
    "            recording = True\n",
    "            buffer = []\n",
    "        elif recording:\n",
    "            if \"```'\" in line:\n",
    "                recording = False\n",
    "                yaml_block = \"\\n\".join(buffer)\n",
    "                if yaml_block:\n",
    "                    try:\n",
    "                        data = yaml.safe_load(yaml_block)\n",
    "                        if data:\n",
    "                            parsed_data.append(data)\n",
    "                        else:\n",
    "                            failed_data.append(yaml_block)\n",
    "                    except yaml.YAMLError:\n",
    "                        failed_data.append(yaml_block)\n",
    "            else:\n",
    "                buffer.append(line)\n",
    "\n",
    "    return parsed_data, failed_data"
   ],
   "metadata": {
    "collapsed": false,
    "ExecuteTime": {
     "end_time": "2024-04-22T19:23:59.300510Z",
     "start_time": "2024-04-22T19:23:59.294796Z"
    }
   },
   "id": "451994a0621525f7"
  },
  {
   "cell_type": "code",
   "execution_count": 26,
   "outputs": [
    {
     "name": "stdout",
     "output_type": "stream",
     "text": [
      "Parsed YAML Count: 202\n",
      "Failed YAML Count: 24\n"
     ]
    }
   ],
   "source": [
    "file_path = '../../data/unos_mapping_output.yaml'\n",
    "parsed_yaml, failed_yaml = parse_and_categorize_yaml(file_path)\n",
    "# print(\"Parsed YAML:\", parsed_yaml[:5])\n",
    "# print(\"Failed YAML:\", failed_yaml[:5])\n",
    "\n",
    "print(\"Parsed YAML Count:\", len(parsed_yaml))\n",
    "print(\"Failed YAML Count:\", len(failed_yaml))"
   ],
   "metadata": {
    "collapsed": false,
    "ExecuteTime": {
     "end_time": "2024-04-22T19:57:22.933138Z",
     "start_time": "2024-04-22T19:57:22.819053Z"
    }
   },
   "id": "afecb97422ab65b4"
  },
  {
   "cell_type": "code",
   "execution_count": 27,
   "outputs": [
    {
     "data": {
      "text/plain": "202"
     },
     "execution_count": 27,
     "metadata": {},
     "output_type": "execute_result"
    }
   ],
   "source": [
    "len(parsed_yaml) "
   ],
   "metadata": {
    "collapsed": false,
    "ExecuteTime": {
     "end_time": "2024-04-22T19:57:25.411311Z",
     "start_time": "2024-04-22T19:57:25.407646Z"
    }
   },
   "id": "ed8636021e68e0a"
  },
  {
   "cell_type": "code",
   "execution_count": 28,
   "outputs": [
    {
     "data": {
      "text/plain": "       Variable_name                                 description        form  \\\n0     ABN_CONGEN_DON  DDR:Structural Abnormalities //Congenital:         DDR   \n1        ABN_LVH_DON         DDR:Structural Abnormalities //LVH:         DDR   \n2     ABN_VALVES_DON      DDR:Structural Abnormalities //Valves:         DDR   \n3                ABO        RECIPIENT BLOOD GROUP @ REGISTRATION         TCR   \n4            ABO_DON                            DONOR BLOOD TYPE     DDR/LDR   \n..               ...                                         ...         ...   \n526       WL_ID_CODE           ENCRYPTED REGISTRATION IDENTIFIER  CALCULATED   \n527           WL_ORG                            ORGAN LISTED FOR     WL DATA   \n528  WORK_INCOME_TCR            WORK FOR INCOME AT REGISTRATION?         TCR   \n529  WORK_INCOME_TRR    RECIPIENT WORK FOR INCOME AT TRANSPLANT?         TRR   \n530  YR_ENTRY_US_TCR                   YEAR OF ENTRY TO THE U.S.         TCR   \n\n          var_start_date var_end_date           form_section data_type  \\\n0    2004-06-30 00:00:00         None         ORGAN RECOVERY   CHAR(1)   \n1    2004-06-30 00:00:00         None         ORGAN RECOVERY   CHAR(1)   \n2    2004-06-30 00:00:00         None         ORGAN RECOVERY   CHAR(1)   \n3    1987-10-01 00:00:00         None   CLINICAL INFORMATION         C   \n4    1987-10-01 00:00:00         None      DONOR INFORMATION         C   \n..                   ...          ...                    ...       ...   \n526                 None         None                              NUM   \n527  1987-10-01 00:00:00         None                          CHAR(4)   \n528  2004-06-30 00:00:00         None  CANDIDATE INFORMATION   CHAR(1)   \n529  2004-06-30 00:00:00         None         PATIENT STATUS   CHAR(1)   \n530  2004-06-30 00:00:00         None  CANDIDATE INFORMATION       NUM   \n\n    sas_analysis_format comment    HPO_term  \\\n0                                HP:0001710   \n1                                HP:0001712   \n2                                HP:0031653   \n3                   ABO                 NaN   \n4                   ABO                 NaN   \n..                  ...     ...         ...   \n526                                     NaN   \n527                                     NaN   \n528                              HP:0000001   \n529                                     NaN   \n530                                     NaN   \n\n                                       HPO_label    function  \\\n0    Congenital abnormality of the great vessels  x == ''Y''   \n1                   Left ventricular hypertrophy  x == ''Y''   \n2                Abnormal heart valve physiology    x == \"Y\"   \n3                                            NaN         NaN   \n4                                            NaN         NaN   \n..                                           ...         ...   \n526                                          NaN         NaN   \n527                                          NaN         NaN   \n528                                          All  x == ''Y''   \n529                                          NaN         NaN   \n530                                          NaN         NaN   \n\n                                       observed_values  \\\n0                                                   []   \n1                                                   []   \n2                                                   []   \n3                                    [O, A1, B, AB, A]   \n4                              [, O, A1, B, AB, A, A2]   \n..                                                 ...   \n526  [297495, 245835, 651475, 626441, 115094, 65782...   \n527                                       [LU, HL, HR]   \n528                                           [, N, U]   \n529                                              [, N]   \n530                                                [.]   \n\n                                          valid_values  \n0                                                  NaN  \n1                                                  NaN  \n2                                                  NaN  \n3    {'Null or Missing': 'Not Reported', 'A': 'A', ...  \n4    {'Null or Missing': 'Not Reported', 'A': 'A', ...  \n..                                                 ...  \n526                                                NaN  \n527                                                NaN  \n528                                                NaN  \n529                                                NaN  \n530                                                NaN  \n\n[531 rows x 14 columns]",
      "text/html": "<div>\n<style scoped>\n    .dataframe tbody tr th:only-of-type {\n        vertical-align: middle;\n    }\n\n    .dataframe tbody tr th {\n        vertical-align: top;\n    }\n\n    .dataframe thead th {\n        text-align: right;\n    }\n</style>\n<table border=\"1\" class=\"dataframe\">\n  <thead>\n    <tr style=\"text-align: right;\">\n      <th></th>\n      <th>Variable_name</th>\n      <th>description</th>\n      <th>form</th>\n      <th>var_start_date</th>\n      <th>var_end_date</th>\n      <th>form_section</th>\n      <th>data_type</th>\n      <th>sas_analysis_format</th>\n      <th>comment</th>\n      <th>HPO_term</th>\n      <th>HPO_label</th>\n      <th>function</th>\n      <th>observed_values</th>\n      <th>valid_values</th>\n    </tr>\n  </thead>\n  <tbody>\n    <tr>\n      <th>0</th>\n      <td>ABN_CONGEN_DON</td>\n      <td>DDR:Structural Abnormalities //Congenital:</td>\n      <td>DDR</td>\n      <td>2004-06-30 00:00:00</td>\n      <td>None</td>\n      <td>ORGAN RECOVERY</td>\n      <td>CHAR(1)</td>\n      <td></td>\n      <td></td>\n      <td>HP:0001710</td>\n      <td>Congenital abnormality of the great vessels</td>\n      <td>x == ''Y''</td>\n      <td>[]</td>\n      <td>NaN</td>\n    </tr>\n    <tr>\n      <th>1</th>\n      <td>ABN_LVH_DON</td>\n      <td>DDR:Structural Abnormalities //LVH:</td>\n      <td>DDR</td>\n      <td>2004-06-30 00:00:00</td>\n      <td>None</td>\n      <td>ORGAN RECOVERY</td>\n      <td>CHAR(1)</td>\n      <td></td>\n      <td></td>\n      <td>HP:0001712</td>\n      <td>Left ventricular hypertrophy</td>\n      <td>x == ''Y''</td>\n      <td>[]</td>\n      <td>NaN</td>\n    </tr>\n    <tr>\n      <th>2</th>\n      <td>ABN_VALVES_DON</td>\n      <td>DDR:Structural Abnormalities //Valves:</td>\n      <td>DDR</td>\n      <td>2004-06-30 00:00:00</td>\n      <td>None</td>\n      <td>ORGAN RECOVERY</td>\n      <td>CHAR(1)</td>\n      <td></td>\n      <td></td>\n      <td>HP:0031653</td>\n      <td>Abnormal heart valve physiology</td>\n      <td>x == \"Y\"</td>\n      <td>[]</td>\n      <td>NaN</td>\n    </tr>\n    <tr>\n      <th>3</th>\n      <td>ABO</td>\n      <td>RECIPIENT BLOOD GROUP @ REGISTRATION</td>\n      <td>TCR</td>\n      <td>1987-10-01 00:00:00</td>\n      <td>None</td>\n      <td>CLINICAL INFORMATION</td>\n      <td>C</td>\n      <td>ABO</td>\n      <td></td>\n      <td>NaN</td>\n      <td>NaN</td>\n      <td>NaN</td>\n      <td>[O, A1, B, AB, A]</td>\n      <td>{'Null or Missing': 'Not Reported', 'A': 'A', ...</td>\n    </tr>\n    <tr>\n      <th>4</th>\n      <td>ABO_DON</td>\n      <td>DONOR BLOOD TYPE</td>\n      <td>DDR/LDR</td>\n      <td>1987-10-01 00:00:00</td>\n      <td>None</td>\n      <td>DONOR INFORMATION</td>\n      <td>C</td>\n      <td>ABO</td>\n      <td></td>\n      <td>NaN</td>\n      <td>NaN</td>\n      <td>NaN</td>\n      <td>[, O, A1, B, AB, A, A2]</td>\n      <td>{'Null or Missing': 'Not Reported', 'A': 'A', ...</td>\n    </tr>\n    <tr>\n      <th>...</th>\n      <td>...</td>\n      <td>...</td>\n      <td>...</td>\n      <td>...</td>\n      <td>...</td>\n      <td>...</td>\n      <td>...</td>\n      <td>...</td>\n      <td>...</td>\n      <td>...</td>\n      <td>...</td>\n      <td>...</td>\n      <td>...</td>\n      <td>...</td>\n    </tr>\n    <tr>\n      <th>526</th>\n      <td>WL_ID_CODE</td>\n      <td>ENCRYPTED REGISTRATION IDENTIFIER</td>\n      <td>CALCULATED</td>\n      <td>None</td>\n      <td>None</td>\n      <td></td>\n      <td>NUM</td>\n      <td></td>\n      <td></td>\n      <td>NaN</td>\n      <td>NaN</td>\n      <td>NaN</td>\n      <td>[297495, 245835, 651475, 626441, 115094, 65782...</td>\n      <td>NaN</td>\n    </tr>\n    <tr>\n      <th>527</th>\n      <td>WL_ORG</td>\n      <td>ORGAN LISTED FOR</td>\n      <td>WL DATA</td>\n      <td>1987-10-01 00:00:00</td>\n      <td>None</td>\n      <td></td>\n      <td>CHAR(4)</td>\n      <td></td>\n      <td></td>\n      <td>NaN</td>\n      <td>NaN</td>\n      <td>NaN</td>\n      <td>[LU, HL, HR]</td>\n      <td>NaN</td>\n    </tr>\n    <tr>\n      <th>528</th>\n      <td>WORK_INCOME_TCR</td>\n      <td>WORK FOR INCOME AT REGISTRATION?</td>\n      <td>TCR</td>\n      <td>2004-06-30 00:00:00</td>\n      <td>None</td>\n      <td>CANDIDATE INFORMATION</td>\n      <td>CHAR(1)</td>\n      <td></td>\n      <td></td>\n      <td>HP:0000001</td>\n      <td>All</td>\n      <td>x == ''Y''</td>\n      <td>[, N, U]</td>\n      <td>NaN</td>\n    </tr>\n    <tr>\n      <th>529</th>\n      <td>WORK_INCOME_TRR</td>\n      <td>RECIPIENT WORK FOR INCOME AT TRANSPLANT?</td>\n      <td>TRR</td>\n      <td>2004-06-30 00:00:00</td>\n      <td>None</td>\n      <td>PATIENT STATUS</td>\n      <td>CHAR(1)</td>\n      <td></td>\n      <td></td>\n      <td>NaN</td>\n      <td>NaN</td>\n      <td>NaN</td>\n      <td>[, N]</td>\n      <td>NaN</td>\n    </tr>\n    <tr>\n      <th>530</th>\n      <td>YR_ENTRY_US_TCR</td>\n      <td>YEAR OF ENTRY TO THE U.S.</td>\n      <td>TCR</td>\n      <td>2004-06-30 00:00:00</td>\n      <td>None</td>\n      <td>CANDIDATE INFORMATION</td>\n      <td>NUM</td>\n      <td></td>\n      <td></td>\n      <td>NaN</td>\n      <td>NaN</td>\n      <td>NaN</td>\n      <td>[.]</td>\n      <td>NaN</td>\n    </tr>\n  </tbody>\n</table>\n<p>531 rows × 14 columns</p>\n</div>"
     },
     "execution_count": 28,
     "metadata": {},
     "output_type": "execute_result"
    }
   ],
   "source": [
    "import json\n",
    "import pandas as pd\n",
    "\n",
    "# Load the JSON data\n",
    "with open('../../data/THORACIC_DATA_snippet_parsed_data_dict.json', 'r') as file:\n",
    "    thoracic_data = json.load(file)\n",
    "\n",
    "# Convert JSON data where each key is the variable name\n",
    "data_items = [{'Variable_name': key, **value} for key, value in thoracic_data.items()]\n",
    "\n",
    "# Convert both lists of dictionaries to DataFrames\n",
    "df_thoracic = pd.DataFrame(data_items)\n",
    "df_yaml = pd.DataFrame(parsed_yaml)\n",
    "\n",
    "# Merge on 'Variable_name'\n",
    "df_merged = pd.merge(df_thoracic, df_yaml, on='Variable_name', how='outer')\n",
    "\n",
    "# Specify the desired column order\n",
    "column_order = [\n",
    "    'Variable_name', 'description', 'form', 'var_start_date', 'var_end_date', \n",
    "    'form_section', 'data_type', 'sas_analysis_format', 'comment', \n",
    "    'HPO_term', 'HPO_label', 'function', 'observed_values', 'valid_values'\n",
    "]\n",
    "\n",
    "# Reorder the columns, placing missing columns with NaN if they don't exist\n",
    "df_merged = df_merged.reindex(columns=column_order)\n",
    "\n",
    "# Output the merged DataFrame to a TSV file\n",
    "df_merged.to_csv('../../data/THORACIC_DATA_merged_data_dict_and_mappings.tsv', sep='\\t', index=False)\n",
    "df_merged"
   ],
   "metadata": {
    "collapsed": false,
    "ExecuteTime": {
     "end_time": "2024-04-22T19:57:35.314195Z",
     "start_time": "2024-04-22T19:57:35.188484Z"
    }
   },
   "id": "ae8b4215dd234afd"
  },
  {
   "cell_type": "code",
   "execution_count": null,
   "outputs": [],
   "source": [],
   "metadata": {
    "collapsed": false
   },
   "id": "dbd007690b418261"
  }
 ],
 "metadata": {
  "kernelspec": {
   "display_name": "Python 3",
   "language": "python",
   "name": "python3"
  },
  "language_info": {
   "codemirror_mode": {
    "name": "ipython",
    "version": 2
   },
   "file_extension": ".py",
   "mimetype": "text/x-python",
   "name": "python",
   "nbconvert_exporter": "python",
   "pygments_lexer": "ipython2",
   "version": "2.7.6"
  }
 },
 "nbformat": 4,
 "nbformat_minor": 5
}
